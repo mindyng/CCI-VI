{
 "cells": [
  {
   "cell_type": "code",
   "execution_count": 1,
   "metadata": {
    "collapsed": true
   },
   "outputs": [],
   "source": [
    "#1\n",
    "def unique(u):\n",
    "    check = []\n",
    "    for i in u:\n",
    "        if u.count(i) == 1:\n",
    "            check.append(i)\n",
    "    if list(u) == check:\n",
    "        print (u + \" has all unique characters!\")\n",
    "    else:\n",
    "        print(u + \" does not have all unique characters...\")"
   ]
  },
  {
   "cell_type": "code",
   "execution_count": 2,
   "metadata": {},
   "outputs": [
    {
     "name": "stdout",
     "output_type": "stream",
     "text": [
      "music has all unique characters!\n"
     ]
    }
   ],
   "source": [
    "#check for true:\n",
    "unique(\"music\")"
   ]
  },
  {
   "cell_type": "code",
   "execution_count": 3,
   "metadata": {},
   "outputs": [
    {
     "name": "stdout",
     "output_type": "stream",
     "text": [
      "anagram does not have all unique characters...\n"
     ]
    }
   ],
   "source": [
    "#check for false:\n",
    "unique(\"anagram\")"
   ]
  },
  {
   "cell_type": "code",
   "execution_count": 4,
   "metadata": {
    "collapsed": true
   },
   "outputs": [],
   "source": [
    "#2\n",
    "def permutation(p,m):\n",
    "    l = []\n",
    "    for i in p:\n",
    "        if i in m and p.count(i) == m.count(i):\n",
    "            l.append(i)\n",
    "    if len(p) == len(l):\n",
    "        print (p + \" is a permutation of \" + m)\n",
    "    else:\n",
    "        print (p + \" is not a permutation of \" + m + \" ...\")"
   ]
  },
  {
   "cell_type": "code",
   "execution_count": 5,
   "metadata": {},
   "outputs": [
    {
     "name": "stdout",
     "output_type": "stream",
     "text": [
      "knob is a permutation of bonk\n"
     ]
    }
   ],
   "source": [
    "#check for true:\n",
    "permutation(\"knob\", \"bonk\")"
   ]
  },
  {
   "cell_type": "code",
   "execution_count": 6,
   "metadata": {},
   "outputs": [
    {
     "name": "stdout",
     "output_type": "stream",
     "text": [
      "low is a permutation of owl\n"
     ]
    }
   ],
   "source": [
    "#check for true again:\n",
    "permutation(\"low\",\"owl\")"
   ]
  },
  {
   "cell_type": "code",
   "execution_count": 7,
   "metadata": {},
   "outputs": [
    {
     "name": "stdout",
     "output_type": "stream",
     "text": [
      "letters is not a permutation of tellers ...\n"
     ]
    }
   ],
   "source": [
    "#check for false:\n",
    "permutation(\"letters\", \"tellers\")"
   ]
  },
  {
   "cell_type": "code",
   "execution_count": 8,
   "metadata": {},
   "outputs": [
    {
     "name": "stdout",
     "output_type": "stream",
     "text": [
      "house is not a permutation of mouse ...\n"
     ]
    }
   ],
   "source": [
    "#check for false:\n",
    "permutation(\"house\", \"mouse\")"
   ]
  },
  {
   "cell_type": "code",
   "execution_count": 9,
   "metadata": {
    "collapsed": true
   },
   "outputs": [],
   "source": [
    "#3\n",
    "def URLify(l):\n",
    "    return l.rstrip().replace(\" \", \"%20\")"
   ]
  },
  {
   "cell_type": "code",
   "execution_count": 10,
   "metadata": {},
   "outputs": [
    {
     "data": {
      "text/plain": [
       "'Mr%20John%20Smith'"
      ]
     },
     "execution_count": 10,
     "metadata": {},
     "output_type": "execute_result"
    }
   ],
   "source": [
    "URLify(\"Mr John Smith     \")"
   ]
  },
  {
   "cell_type": "code",
   "execution_count": 11,
   "metadata": {},
   "outputs": [
    {
     "data": {
      "text/plain": [
       "'Mom%20made%20me%20cookies!!!'"
      ]
     },
     "execution_count": 11,
     "metadata": {},
     "output_type": "execute_result"
    }
   ],
   "source": [
    "URLify(\"Mom made me cookies!!!        \")"
   ]
  },
  {
   "cell_type": "code",
   "execution_count": 12,
   "metadata": {
    "collapsed": true
   },
   "outputs": [],
   "source": [
    "#4\n",
    "import string\n",
    "\n",
    "def pal_perm(s):\n",
    "    s = s.lower().replace(\" \",\"\")\n",
    "    d = dict.fromkeys(string.ascii_lowercase, False) #each letter in reference dict is primed at False\n",
    "    count = 0\n",
    "    for char in s:\n",
    "        if(ord(char) > 96 and ord(char) < 123 ): #referencing all lower case letter (made each char in input string lowercase)\n",
    "            d[char] = not d[char] #This is the toggling step where each count changes dic value to the opposite\n",
    "    for key in d:\n",
    "        if d[key] is True: #If the value from key is True--> odd amt of that char(only want this once)\n",
    "            count += 1\n",
    "            if count > 1:\n",
    "                return False #Therefore, if this odd amt of letters happens more than once then not a palindrome\n",
    "    return True #Otherwise, it is a palindrome (0 = one odd letter and rest are even amt of letters, 1 = every letter is even)"
   ]
  },
  {
   "cell_type": "code",
   "execution_count": 13,
   "metadata": {},
   "outputs": [
    {
     "data": {
      "text/plain": [
       "True"
      ]
     },
     "execution_count": 13,
     "metadata": {},
     "output_type": "execute_result"
    }
   ],
   "source": [
    "#check for true\n",
    "pal_perm(\"Tact Coa\")"
   ]
  },
  {
   "cell_type": "code",
   "execution_count": 14,
   "metadata": {},
   "outputs": [
    {
     "data": {
      "text/plain": [
       "True"
      ]
     },
     "execution_count": 14,
     "metadata": {},
     "output_type": "execute_result"
    }
   ],
   "source": [
    "#check for true\n",
    "pal_perm(\"rats live on no evil star\")"
   ]
  },
  {
   "cell_type": "code",
   "execution_count": 15,
   "metadata": {},
   "outputs": [
    {
     "data": {
      "text/plain": [
       "False"
      ]
     },
     "execution_count": 15,
     "metadata": {},
     "output_type": "execute_result"
    }
   ],
   "source": [
    "#check for false\n",
    "pal_perm(\"permutation palindrome\")"
   ]
  },
  {
   "cell_type": "code",
   "execution_count": 16,
   "metadata": {
    "collapsed": true
   },
   "outputs": [],
   "source": [
    "#5\n",
    "def one_way(s1, s2):\n",
    "    if len(s1) == len(s2) - 1:\n",
    "        print (\"There was a character insertion (True-one edit away).\")\n",
    "    \n",
    "    elif len(s1) == len(s2) + 1:\n",
    "        print (\"There was a character deletion (True-one edit away).\")\n",
    "    \n",
    "    \n",
    "    elif len(s1) == len(s2):\n",
    "        count = 0\n",
    "        for x,y in zip(s1, s2):\n",
    "            if x != y:\n",
    "                count +=1\n",
    "            else:\n",
    "                continue        \n",
    "        if count == 1:\n",
    "            print (\"There was a character replacement (True-one edit away).\")  \n",
    "        else:\n",
    "            print (\"There was either no character replacement (False-zero edits away (no edits)) or greater than one character replacement.\")\n",
    "    else:\n",
    "        print (\"These two strings are not one edit away (False- >1 deletions, >1 insertions or mixture of the two.\")"
   ]
  },
  {
   "cell_type": "code",
   "execution_count": 17,
   "metadata": {},
   "outputs": [
    {
     "name": "stdout",
     "output_type": "stream",
     "text": [
      "There was a character deletion (True-one edit away).\n"
     ]
    }
   ],
   "source": [
    "#check for true\n",
    "one_way(\"pale\", \"ple\")"
   ]
  },
  {
   "cell_type": "code",
   "execution_count": 18,
   "metadata": {
    "scrolled": true
   },
   "outputs": [
    {
     "name": "stdout",
     "output_type": "stream",
     "text": [
      "There was a character deletion (True-one edit away).\n"
     ]
    }
   ],
   "source": [
    "#check for true\n",
    "one_way(\"pales\", \"pale\")    "
   ]
  },
  {
   "cell_type": "code",
   "execution_count": 19,
   "metadata": {},
   "outputs": [
    {
     "name": "stdout",
     "output_type": "stream",
     "text": [
      "There was a character replacement (True-one edit away).\n"
     ]
    }
   ],
   "source": [
    "#check for true\n",
    "one_way(\"pale\", \"bale\")"
   ]
  },
  {
   "cell_type": "code",
   "execution_count": 20,
   "metadata": {},
   "outputs": [
    {
     "name": "stdout",
     "output_type": "stream",
     "text": [
      "There was either no character replacement (False-zero edits away (no edits)) or greater than one character replacement.\n"
     ]
    }
   ],
   "source": [
    "#check for false\n",
    "one_way(\"pale\", \"bake\")"
   ]
  },
  {
   "cell_type": "code",
   "execution_count": 21,
   "metadata": {
    "collapsed": true
   },
   "outputs": [],
   "source": [
    "#6\n",
    "from itertools import groupby\n",
    "def encode(input_string):\n",
    "    return [(len(list(g)), k) for k,g in groupby(input_string)]\n",
    " \n",
    "def decode(lst):\n",
    "    return ''.join(c * n for n,c in lst)"
   ]
  },
  {
   "cell_type": "code",
   "execution_count": 22,
   "metadata": {},
   "outputs": [
    {
     "data": {
      "text/plain": [
       "[(2, 'a'), (1, 'b'), (5, 'c'), (3, 'a')]"
      ]
     },
     "execution_count": 22,
     "metadata": {},
     "output_type": "execute_result"
    }
   ],
   "source": [
    "#within list, letter count is broken down in dictionary format\n",
    "encode('aabcccccaaa')"
   ]
  },
  {
   "cell_type": "code",
   "execution_count": 23,
   "metadata": {},
   "outputs": [
    {
     "data": {
      "text/plain": [
       "'aabcccccaaa'"
      ]
     },
     "execution_count": 23,
     "metadata": {},
     "output_type": "execute_result"
    }
   ],
   "source": [
    "#Verifying output list corresponds to input string\n",
    "decode([(2, 'a'), (1, 'b'), (5, 'c'), (3, 'a')])"
   ]
  },
  {
   "cell_type": "code",
   "execution_count": 24,
   "metadata": {
    "collapsed": true
   },
   "outputs": [],
   "source": [
    "#7\n",
    "\n",
    "def rotate_matrix(matrix):\n",
    "    #rotating matrix by 90 degrees\n",
    "    n = len(matrix)\n",
    "    for layer in range(n // 2):\n",
    "        first, last = layer, n - layer - 1\n",
    "        for i in range(first, last):\n",
    "            # save top\n",
    "            top = matrix[layer][i]\n",
    "            \n",
    "            # left -> top\n",
    "            matrix[layer][i] = matrix[-i - 1][layer]\n",
    "            \n",
    "            # bottom -> left\n",
    "            matrix[-i - 1][layer] = matrix[-layer - 1][-i - 1]\n",
    "            \n",
    "            #right -> bottom\n",
    "            matrix[-layer - 1][-i - 1] = matrix[i][-layer - 1]\n",
    "            \n",
    "            #top -> right\n",
    "            matrix[i][-layer - 1] = top\n",
    "    return matrix"
   ]
  },
  {
   "cell_type": "code",
   "execution_count": 25,
   "metadata": {},
   "outputs": [
    {
     "data": {
      "text/plain": [
       "[[21, 16, 11, 6, 1],\n",
       " [22, 17, 12, 7, 2],\n",
       " [23, 18, 13, 8, 3],\n",
       " [24, 19, 14, 9, 4],\n",
       " [25, 20, 15, 10, 5]]"
      ]
     },
     "execution_count": 25,
     "metadata": {},
     "output_type": "execute_result"
    }
   ],
   "source": [
    "#Verifying matrix turns 90 degrees\n",
    "t = [\n",
    "            [1, 2, 3, 4, 5],\n",
    "            [6, 7, 8, 9, 10],\n",
    "            [11, 12, 13, 14, 15],\n",
    "            [16, 17, 18, 19, 20],\n",
    "            [21, 22, 23, 24, 25]\n",
    "        ]\n",
    "\n",
    "rotate_matrix(t)"
   ]
  },
  {
   "cell_type": "code",
   "execution_count": 26,
   "metadata": {
    "collapsed": true
   },
   "outputs": [],
   "source": [
    "#8\n",
    "\n",
    "# O(MxN)\n",
    "\n",
    "\n",
    "def zero_matrix(matrix):\n",
    "    m = len(matrix)\n",
    "    n = len(matrix[0])\n",
    "    rows = []\n",
    "    cols = []\n",
    "    \n",
    "    for x in range(m):\n",
    "        for y in range(n):\n",
    "            if matrix[x][y] == 0:\n",
    "                rows.append(x)\n",
    "                cols.append(y)\n",
    "                \n",
    "    for row in rows:\n",
    "        nullify_row(matrix, row)\n",
    "        \n",
    "    for col in cols:\n",
    "        nullify_col(matrix, col)\n",
    "        \n",
    "    return matrix\n",
    "\n",
    "\n",
    "def nullify_row(matrix, row):\n",
    "    for i in range(len(matrix[0])):\n",
    "        matrix[row][i] = 0\n",
    "        \n",
    "def nullify_col(matrix, col):\n",
    "    for i in range(len(matrix)):\n",
    "        matrix[i][col] = 0"
   ]
  },
  {
   "cell_type": "code",
   "execution_count": 27,
   "metadata": {},
   "outputs": [
    {
     "data": {
      "text/plain": [
       "[[0, 0, 0, 0, 0],\n",
       " [0, 0, 0, 0, 0],\n",
       " [11, 0, 13, 14, 0],\n",
       " [0, 0, 0, 0, 0],\n",
       " [21, 0, 23, 24, 0]]"
      ]
     },
     "execution_count": 27,
     "metadata": {},
     "output_type": "execute_result"
    }
   ],
   "source": [
    "#Confirm that wherever 0 is in original matrix, that location's row and column are turned \n",
    "#into 0's\n",
    "\n",
    "t = [\n",
    "            [1, 2, 3, 4, 0],\n",
    "            [6, 0, 8, 9, 10],\n",
    "            [11, 12, 13, 14, 15],\n",
    "            [16, 0, 18, 19, 20],\n",
    "            [21, 22, 23, 24, 25]\n",
    "        ]\n",
    "\n",
    "zero_matrix(t)"
   ]
  },
  {
   "cell_type": "code",
   "execution_count": 28,
   "metadata": {
    "collapsed": true
   },
   "outputs": [],
   "source": [
    "#9\n",
    "\n",
    "\n",
    "#see if one string is a substring of another by using substring method called once only\n",
    "\n",
    "#wherever the s1 is cut, that is the point of rotation to make the new string s2\n",
    "#the idea is that just need to see if s2 is within s1s1\n",
    "#need to verify that s2 is not just reverse of s1 and that that s2 is some length\n",
    "\n",
    "\n",
    "# O(N)\n",
    "\n",
    "\n",
    "def is_substring(string, sub):\n",
    "    return string.find(sub) != -1\n",
    "\n",
    "def string_rotation(s1, s2):\n",
    "    if len(s1) == len(s2) != 0:\n",
    "        return is_substring(s1 + s1, s2)\n",
    "    return False\n",
    "    "
   ]
  },
  {
   "cell_type": "code",
   "execution_count": 29,
   "metadata": {},
   "outputs": [
    {
     "data": {
      "text/plain": [
       "True"
      ]
     },
     "execution_count": 29,
     "metadata": {},
     "output_type": "execute_result"
    }
   ],
   "source": [
    "string_rotation('waterbottle', 'terbottlewa')"
   ]
  }
 ],
 "metadata": {
  "kernelspec": {
   "display_name": "Python 2",
   "language": "python",
   "name": "python2"
  },
  "language_info": {
   "codemirror_mode": {
    "name": "ipython",
    "version": 2
   },
   "file_extension": ".py",
   "mimetype": "text/x-python",
   "name": "python",
   "nbconvert_exporter": "python",
   "pygments_lexer": "ipython2",
   "version": "2.7.15"
  }
 },
 "nbformat": 4,
 "nbformat_minor": 2
}
