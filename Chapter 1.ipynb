{
 "cells": [
  {
   "cell_type": "code",
   "execution_count": 4,
   "metadata": {},
   "outputs": [],
   "source": [
    "#1\n",
    "def unique(u):\n",
    "    check = []\n",
    "    for i in u:\n",
    "        if u.count(i) == 1:\n",
    "            check.append(i)\n",
    "    if list(u) == check:\n",
    "        print (u + \" has all unique characters!\")\n",
    "    else:\n",
    "        print(u + \" does not have all unique characters...\")"
   ]
  },
  {
   "cell_type": "code",
   "execution_count": 5,
   "metadata": {},
   "outputs": [
    {
     "name": "stdout",
     "output_type": "stream",
     "text": [
      "music has all unique characters!\n"
     ]
    }
   ],
   "source": [
    "#check for true:\n",
    "unique(\"music\")"
   ]
  },
  {
   "cell_type": "code",
   "execution_count": 6,
   "metadata": {},
   "outputs": [
    {
     "name": "stdout",
     "output_type": "stream",
     "text": [
      "anagram does not have all unique characters...\n"
     ]
    }
   ],
   "source": [
    "#check for false:\n",
    "unique(\"anagram\")"
   ]
  },
  {
   "cell_type": "code",
   "execution_count": 12,
   "metadata": {},
   "outputs": [],
   "source": [
    "#2\n",
    "def permutation(p,m):\n",
    "    l = []\n",
    "    for i in p:\n",
    "        if i in m and p.count(i) == m.count(i):\n",
    "            l.append(i)\n",
    "    if len(p) == len(l):\n",
    "        print (p + \" is a permutation of \" + m)\n",
    "    else:\n",
    "        print (p + \" is not a permutation of \" + m + \" ...\")"
   ]
  },
  {
   "cell_type": "code",
   "execution_count": 13,
   "metadata": {},
   "outputs": [
    {
     "name": "stdout",
     "output_type": "stream",
     "text": [
      "knob is a permutation of bonk\n"
     ]
    }
   ],
   "source": [
    "#check for true:\n",
    "permutation(\"knob\", \"bonk\")"
   ]
  },
  {
   "cell_type": "code",
   "execution_count": 14,
   "metadata": {},
   "outputs": [
    {
     "name": "stdout",
     "output_type": "stream",
     "text": [
      "low is a permutation of owl\n"
     ]
    }
   ],
   "source": [
    "#check for true again:\n",
    "permutation(\"low\",\"owl\")"
   ]
  },
  {
   "cell_type": "code",
   "execution_count": 15,
   "metadata": {},
   "outputs": [
    {
     "name": "stdout",
     "output_type": "stream",
     "text": [
      "letters is not a permutation of tellers ...\n"
     ]
    }
   ],
   "source": [
    "#check for false:\n",
    "permutation(\"letters\", \"tellers\")"
   ]
  },
  {
   "cell_type": "code",
   "execution_count": 16,
   "metadata": {},
   "outputs": [
    {
     "name": "stdout",
     "output_type": "stream",
     "text": [
      "house is not a permutation of mouse ...\n"
     ]
    }
   ],
   "source": [
    "#check for false:\n",
    "permutation(\"house\", \"mouse\")"
   ]
  },
  {
   "cell_type": "code",
   "execution_count": 24,
   "metadata": {
    "collapsed": true
   },
   "outputs": [],
   "source": [
    "#3\n",
    "def URLify(l):\n",
    "    return l.rstrip().replace(\" \", \"%20\")"
   ]
  },
  {
   "cell_type": "code",
   "execution_count": 25,
   "metadata": {},
   "outputs": [
    {
     "data": {
      "text/plain": [
       "'Mr%20John%20Smith'"
      ]
     },
     "execution_count": 25,
     "metadata": {},
     "output_type": "execute_result"
    }
   ],
   "source": [
    "URLify(\"Mr John Smith     \")"
   ]
  },
  {
   "cell_type": "code",
   "execution_count": 26,
   "metadata": {},
   "outputs": [
    {
     "data": {
      "text/plain": [
       "'Mom%20made%20me%20cookies!!!'"
      ]
     },
     "execution_count": 26,
     "metadata": {},
     "output_type": "execute_result"
    }
   ],
   "source": [
    "URLify(\"Mom made me cookies!!!        \")"
   ]
  }
 ],
 "metadata": {
  "kernelspec": {
   "display_name": "Python 2",
   "language": "python",
   "name": "python2"
  },
  "language_info": {
   "codemirror_mode": {
    "name": "ipython",
    "version": 2
   },
   "file_extension": ".py",
   "mimetype": "text/x-python",
   "name": "python",
   "nbconvert_exporter": "python",
   "pygments_lexer": "ipython2",
   "version": "2.7.15"
  }
 },
 "nbformat": 4,
 "nbformat_minor": 2
}
